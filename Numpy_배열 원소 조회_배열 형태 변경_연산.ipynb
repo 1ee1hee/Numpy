{
 "cells": [
  {
   "cell_type": "markdown",
   "metadata": {},
   "source": [
    "# 인덱싱과 슬라이싱을 이용한 배열의 원소 조회 및 변경"
   ]
  },
  {
   "cell_type": "markdown",
   "metadata": {},
   "source": [
    "## 배열 인덱싱"
   ]
  },
  {
   "cell_type": "markdown",
   "metadata": {},
   "source": [
    "- 팬시(fancy) 인덱싱\n",
    "    - 여러개의 원소를 한번에 조회할 경우 리스트에 담아 전달\n",
    "    - 다차원 배열의 경우 각 축별로 list로 지정\n",
    "    - arr[[1, 2, 3, 4, 5]]\n",
    "        - 1차원 배열(vector): 1, 2, 3, 4, 5 번 index의 원소들 한번에 조회\n",
    "    - arr[[0, 3], [1, 4]]\n",
    "        - [0, 3] -1분축 index list, [1, 4] -2번축 index list\n",
    "        - 2차원 배열(matrix) : [0, 1], [3, 4]의 원소들 조회 "
   ]
  },
  {
   "cell_type": "code",
   "execution_count": 3,
   "metadata": {},
   "outputs": [
    {
     "name": "stdout",
     "output_type": "stream",
     "text": [
      "(30,)\n"
     ]
    }
   ],
   "source": [
    "import numpy as np\n",
    "a = np.arange(30)\n",
    "print(a.shape)"
   ]
  },
  {
   "cell_type": "code",
   "execution_count": 4,
   "metadata": {},
   "outputs": [
    {
     "data": {
      "text/plain": [
       "array([1, 3, 2, 7])"
      ]
     },
     "execution_count": 4,
     "metadata": {},
     "output_type": "execute_result"
    }
   ],
   "source": [
    "# 여러 index들의 값 조회 => fancy indexing => index들을 리스트로 묶어서 전달\n",
    "a[[1, 3, 2, 7]]"
   ]
  },
  {
   "cell_type": "code",
   "execution_count": 5,
   "metadata": {},
   "outputs": [
    {
     "name": "stdout",
     "output_type": "stream",
     "text": [
      "1\n"
     ]
    },
    {
     "data": {
      "text/plain": [
       "array([    0, 10000,     2,     3,     4,     5,     6,     7,     8,\n",
       "           9,    10,    11,    12,    13,    14,    15,    16,    17,\n",
       "          18,    19,    20,    21,    22,    23,    24,    25,    26,\n",
       "          27,    28,    29])"
      ]
     },
     "execution_count": 5,
     "metadata": {},
     "output_type": "execute_result"
    }
   ],
   "source": [
    "# 조회\n",
    "print(a[1])\n",
    "# 변경\n",
    "a[1] = 10000\n",
    "a"
   ]
  },
  {
   "cell_type": "code",
   "execution_count": 6,
   "metadata": {},
   "outputs": [
    {
     "data": {
      "text/plain": [
       "array([    0, 10000,  5000,     3,  5000,     5,  5000,     7,     8,\n",
       "           9,    10,    11,    12,    13,    14,    15,    16,    17,\n",
       "          18,    19,    20,    21,    22,    23,    24,    25,    26,\n",
       "          27,    28,    29])"
      ]
     },
     "execution_count": 6,
     "metadata": {},
     "output_type": "execute_result"
    }
   ],
   "source": [
    "# 일괄변경\n",
    "a[[2, 4, 6]] = 5000\n",
    "a"
   ]
  },
  {
   "cell_type": "code",
   "execution_count": 7,
   "metadata": {},
   "outputs": [
    {
     "data": {
      "text/plain": [
       "array([    0, 10000,  5000,     3,  5000,     5,  5000,     7,  8000,\n",
       "        9000, 10000,    11,    12,    13,    14,    15,    16,    17,\n",
       "          18,    19,    20,    21,    22,    23,    24,    25,    26,\n",
       "          27,    28,    29])"
      ]
     },
     "execution_count": 7,
     "metadata": {},
     "output_type": "execute_result"
    }
   ],
   "source": [
    "a[[8, 9, 10]] = 8000, 9000, 10000\n",
    "a"
   ]
  },
  {
   "cell_type": "code",
   "execution_count": 8,
   "metadata": {},
   "outputs": [
    {
     "data": {
      "text/plain": [
       "array([[ 0,  1,  2,  3,  4,  5],\n",
       "       [ 6,  7,  8,  9, 10, 11],\n",
       "       [12, 13, 14, 15, 16, 17],\n",
       "       [18, 19, 20, 21, 22, 23],\n",
       "       [24, 25, 26, 27, 28, 29]])"
      ]
     },
     "execution_count": 8,
     "metadata": {},
     "output_type": "execute_result"
    }
   ],
   "source": [
    "a2 = np.arange(30).reshape(5, 6)\n",
    "# (30, ) 1차원 배열을 (5, 6) 2차원 배열로 reshape\n",
    "a2"
   ]
  },
  {
   "cell_type": "code",
   "execution_count": 9,
   "metadata": {},
   "outputs": [
    {
     "name": "stdout",
     "output_type": "stream",
     "text": [
      "[0 1 2 3 4 5]\n",
      "3\n"
     ]
    }
   ],
   "source": [
    "print(a2[0])\n",
    "print(a2[0, 3])"
   ]
  },
  {
   "cell_type": "code",
   "execution_count": 10,
   "metadata": {},
   "outputs": [
    {
     "data": {
      "text/plain": [
       "array([ 2, 22,  9, 29])"
      ]
     },
     "execution_count": 10,
     "metadata": {},
     "output_type": "execute_result"
    }
   ],
   "source": [
    "a2[[0, 3, 1, 4], [2, 4, 3, 5]]\n",
    "# [0, 2], [3, 4], [1, 3], [4, 5]\n"
   ]
  },
  {
   "cell_type": "code",
   "execution_count": 12,
   "metadata": {},
   "outputs": [
    {
     "name": "stdout",
     "output_type": "stream",
     "text": [
      "(2, 2, 3)\n"
     ]
    },
    {
     "data": {
      "text/plain": [
       "array([[[ 0,  1,  2],\n",
       "        [ 3,  4,  5]],\n",
       "\n",
       "       [[ 6,  7,  8],\n",
       "        [ 9, 10, 11]]])"
      ]
     },
     "execution_count": 12,
     "metadata": {},
     "output_type": "execute_result"
    }
   ],
   "source": [
    "a3 = np.arange(12).reshape(2, 2, 3)\n",
    "print(a3.shape)\n",
    "a3"
   ]
  },
  {
   "cell_type": "code",
   "execution_count": 13,
   "metadata": {},
   "outputs": [
    {
     "name": "stdout",
     "output_type": "stream",
     "text": [
      "4 11\n"
     ]
    }
   ],
   "source": [
    "print(a3[0, 1, 1], a3[1, 1, 2])"
   ]
  },
  {
   "cell_type": "markdown",
   "metadata": {},
   "source": [
    "## 슬라이싱"
   ]
  },
  {
   "cell_type": "code",
   "execution_count": 14,
   "metadata": {},
   "outputs": [
    {
     "data": {
      "text/plain": [
       "array([ 0,  1,  2,  3,  4,  5,  6,  7,  8,  9, 10, 11, 12, 13, 14, 15, 16,\n",
       "       17, 18, 19, 20, 21, 22, 23, 24, 25, 26, 27, 28, 29])"
      ]
     },
     "execution_count": 14,
     "metadata": {},
     "output_type": "execute_result"
    }
   ],
   "source": [
    "a = np.arange(30)\n",
    "a"
   ]
  },
  {
   "cell_type": "code",
   "execution_count": 15,
   "metadata": {},
   "outputs": [
    {
     "name": "stdout",
     "output_type": "stream",
     "text": [
      "[0 1 2 3 4]\n",
      "[ 2  5  8 11 14]\n",
      "[20 21 22 23 24 25 26 27 28]\n"
     ]
    }
   ],
   "source": [
    "print(a[:5])\n",
    "print(a[2:15:3])\n",
    "print(a[20:-1])"
   ]
  },
  {
   "cell_type": "code",
   "execution_count": 16,
   "metadata": {},
   "outputs": [
    {
     "data": {
      "text/plain": [
       "array([400, 400, 400, 400,   4,   5,   6,   7,   8,   9,  10,  11,  12,\n",
       "        13,  14,  15,  16,  17,  18,  19,  20,  21,  22,  23,  24,  25,\n",
       "        26,  27,  28,  29])"
      ]
     },
     "execution_count": 16,
     "metadata": {},
     "output_type": "execute_result"
    }
   ],
   "source": [
    "a[:4] = 400\n",
    "a"
   ]
  },
  {
   "cell_type": "code",
   "execution_count": 17,
   "metadata": {},
   "outputs": [
    {
     "name": "stdout",
     "output_type": "stream",
     "text": [
      "[400 400 400 400]\n",
      "400\n"
     ]
    },
    {
     "data": {
      "text/plain": [
       "array([5000,  400,  400,  400])"
      ]
     },
     "execution_count": 17,
     "metadata": {},
     "output_type": "execute_result"
    }
   ],
   "source": [
    "b = a[:4].copy()\n",
    "print(b)\n",
    "print(b[0])\n",
    "b[0] = 5000\n",
    "b"
   ]
  },
  {
   "cell_type": "code",
   "execution_count": 18,
   "metadata": {},
   "outputs": [
    {
     "data": {
      "text/plain": [
       "array([[ 0,  1,  2,  3,  4,  5],\n",
       "       [ 6,  7,  8,  9, 10, 11],\n",
       "       [12, 13, 14, 15, 16, 17],\n",
       "       [18, 19, 20, 21, 22, 23],\n",
       "       [24, 25, 26, 27, 28, 29]])"
      ]
     },
     "execution_count": 18,
     "metadata": {},
     "output_type": "execute_result"
    }
   ],
   "source": [
    "a2 = np.arange(30).reshape(5, 6)\n",
    "a2"
   ]
  },
  {
   "cell_type": "code",
   "execution_count": 22,
   "metadata": {},
   "outputs": [
    {
     "name": "stdout",
     "output_type": "stream",
     "text": [
      "[[ 7  8  9 10]\n",
      " [25 26 27 28]]\n",
      "====================\n",
      "[ 7  8  9 10]\n",
      "====================\n",
      "[[ 1  4]\n",
      " [ 7 10]\n",
      " [13 16]\n",
      " [19 22]\n",
      " [25 28]]\n"
     ]
    }
   ],
   "source": [
    "print(a2[[1, -1], 1:5])\n",
    "print(\"=\"*20)\n",
    "print(a2[1, 1:5])\n",
    "print(\"=\"*20)\n",
    "print(a2[:, [1, 4]])"
   ]
  },
  {
   "cell_type": "markdown",
   "metadata": {},
   "source": [
    "## boolean indexing"
   ]
  },
  {
   "cell_type": "markdown",
   "metadata": {},
   "source": [
    "### 넘파이 비교 연산자\n",
    "- 파이썬의 and, or, not은 사용할 수 없다\n",
    "- & : and 연산\n",
    "- | : or 연산\n",
    "- ~ : not 연산\n",
    "- 피연산자는 ()로 묶는다"
   ]
  },
  {
   "cell_type": "code",
   "execution_count": 23,
   "metadata": {},
   "outputs": [
    {
     "data": {
      "text/plain": [
       "array([44, 47, 64, 67, 67,  9, 83, 21, 36, 87, 70, 88, 88, 12, 58, 65, 39,\n",
       "       87, 46, 88])"
      ]
     },
     "execution_count": 23,
     "metadata": {},
     "output_type": "execute_result"
    }
   ],
   "source": [
    "np.random.seed(0)\n",
    "a = np.random.randint(100, size = 20)\n",
    "a"
   ]
  },
  {
   "cell_type": "code",
   "execution_count": 24,
   "metadata": {},
   "outputs": [
    {
     "data": {
      "text/plain": [
       "array([64, 67, 67, 83, 87, 70, 88, 88, 58, 65, 87, 88])"
      ]
     },
     "execution_count": 24,
     "metadata": {},
     "output_type": "execute_result"
    }
   ],
   "source": [
    "# a에서 50이상인 값들만 조회\n",
    "a[a>50]"
   ]
  },
  {
   "cell_type": "code",
   "execution_count": 25,
   "metadata": {},
   "outputs": [
    {
     "data": {
      "text/plain": [
       "array([44, 47, 36, 58, 39, 46])"
      ]
     },
     "execution_count": 25,
     "metadata": {},
     "output_type": "execute_result"
    }
   ],
   "source": [
    "# 30 < a < 60\n",
    "a[(a > 30) & (a < 60)]"
   ]
  },
  {
   "cell_type": "code",
   "execution_count": 27,
   "metadata": {},
   "outputs": [
    {
     "name": "stdout",
     "output_type": "stream",
     "text": [
      "[64 67 67  9 83 21 87 70 88 88 12 65 87 88]\n",
      "[64 67 67  9 83 21 87 70 88 88 12 65 87 88]\n"
     ]
    }
   ],
   "source": [
    "# 30 ~ 60 이 아닌 값\n",
    "print(a[~((a > 30) & (a < 60))])\n",
    "print(a[(a <= 30) | (a >= 60)])"
   ]
  },
  {
   "cell_type": "code",
   "execution_count": 28,
   "metadata": {},
   "outputs": [
    {
     "data": {
      "text/plain": [
       "array([[81, 37, 25, 77, 72,  9, 20, 80],\n",
       "       [69, 79, 47, 64, 82, 99, 88, 49],\n",
       "       [29, 19, 19, 14, 39, 32, 65,  9],\n",
       "       [57, 32, 31, 74, 23, 35, 75, 55],\n",
       "       [28, 34,  0,  0, 36, 53,  5, 38],\n",
       "       [17, 79,  4, 42, 58, 31,  1, 65],\n",
       "       [41, 57, 35, 11, 46, 82, 91,  0]])"
      ]
     },
     "execution_count": 28,
     "metadata": {},
     "output_type": "execute_result"
    }
   ],
   "source": [
    "a2 = np.random.randint(100, size = (7, 8))\n",
    "a2"
   ]
  },
  {
   "cell_type": "code",
   "execution_count": 30,
   "metadata": {},
   "outputs": [
    {
     "name": "stdout",
     "output_type": "stream",
     "text": [
      "(7, 8)\n",
      "[81 77 72 80 69 79 64 82 99 88 65 57 74 75 55 53 79 58 65 57 82 91]\n"
     ]
    }
   ],
   "source": [
    "print((a2 > 50).shape)\n",
    "print(a2[a2 > 50]) # 결과는 1차원으로 반환"
   ]
  },
  {
   "cell_type": "markdown",
   "metadata": {},
   "source": [
    "## np.where()\n",
    "- True의 index 조회\n",
    "    - np.where(boolean 배열) - True인 index를 반환\n",
    "    - boolean연산과 같이 사용하여 베열내에 특정 조건을 만족하는 값들을 index(위치)를 조회할 때 사용\n",
    "- True와 False를 다른 값으로 변환\n",
    "    - np.where(boolean 배열, True를 대체할 값, False를 대체할 값)"
   ]
  },
  {
   "cell_type": "code",
   "execution_count": 31,
   "metadata": {},
   "outputs": [
    {
     "name": "stdout",
     "output_type": "stream",
     "text": [
      "<class 'tuple'> <class 'numpy.ndarray'>\n"
     ]
    },
    {
     "data": {
      "text/plain": [
       "(array([0, 2], dtype=int64),)"
      ]
     },
     "execution_count": 31,
     "metadata": {},
     "output_type": "execute_result"
    }
   ],
   "source": [
    "r = np.where([True, False, True])\n",
    "print(type(r), type(r[0]))\n",
    "r"
   ]
  },
  {
   "cell_type": "code",
   "execution_count": 32,
   "metadata": {},
   "outputs": [
    {
     "data": {
      "text/plain": [
       "array(['참', '거짓', '참'], dtype='<U2')"
      ]
     },
     "execution_count": 32,
     "metadata": {},
     "output_type": "execute_result"
    }
   ],
   "source": [
    "r2 = np.where([True, False, True], '참', '거짓')\n",
    "r2"
   ]
  },
  {
   "cell_type": "code",
   "execution_count": 33,
   "metadata": {},
   "outputs": [
    {
     "data": {
      "text/plain": [
       "(array([0, 0, 1], dtype=int64), array([0, 2, 2], dtype=int64))"
      ]
     },
     "execution_count": 33,
     "metadata": {},
     "output_type": "execute_result"
    }
   ],
   "source": [
    "l = [\n",
    "    [True, False, True],\n",
    "    [False, False, True]\n",
    "]\n",
    "r3 = np.where(l)\n",
    "r3"
   ]
  },
  {
   "cell_type": "code",
   "execution_count": 34,
   "metadata": {},
   "outputs": [
    {
     "name": "stdout",
     "output_type": "stream",
     "text": [
      "0, 0\n",
      "0, 2\n",
      "1, 2\n"
     ]
    }
   ],
   "source": [
    "for a1, a2 in zip(r3[0], r3[1]):\n",
    "    print(a1, a2, sep = ', ')"
   ]
  },
  {
   "cell_type": "code",
   "execution_count": 35,
   "metadata": {},
   "outputs": [
    {
     "data": {
      "text/plain": [
       "(5, 2, 3)"
      ]
     },
     "execution_count": 35,
     "metadata": {},
     "output_type": "execute_result"
    }
   ],
   "source": [
    "np.random.seed(0)\n",
    "a2 = np.random.randint(100, size = (5, 2, 3))\n",
    "a2.shape"
   ]
  },
  {
   "cell_type": "code",
   "execution_count": 36,
   "metadata": {},
   "outputs": [
    {
     "data": {
      "text/plain": [
       "array([83, 87, 70, 88, 88, 87, 88, 81, 77, 72, 80, 79])"
      ]
     },
     "execution_count": 36,
     "metadata": {},
     "output_type": "execute_result"
    }
   ],
   "source": [
    "# 70이상인 값들 조회 => 조건이 True값들을 조회 => boolean indexing\n",
    "a2[a2 >= 70]"
   ]
  },
  {
   "cell_type": "code",
   "execution_count": 37,
   "metadata": {},
   "outputs": [
    {
     "name": "stdout",
     "output_type": "stream",
     "text": [
      "[1 1 1 1 2 2 3 3 3 4 4 4]\n",
      "[0 1 1 1 0 1 0 0 1 0 1 1]\n",
      "[0 0 1 2 0 2 1 2 2 0 0 2]\n"
     ]
    }
   ],
   "source": [
    "# 70 이상인 값들의 위치 => 조건이 True 값들의 위치(index) => np.where()\n",
    "axis1, axis2, axis3 = np.where(a2 >= 70)\n",
    "print(axis1)\n",
    "print(axis2)\n",
    "print(axis3)"
   ]
  },
  {
   "cell_type": "code",
   "execution_count": 38,
   "metadata": {},
   "outputs": [
    {
     "name": "stdout",
     "output_type": "stream",
     "text": [
      "83, 87, 70, 88, 88, 87, 88, 81, 77, 72, 80, 79, "
     ]
    }
   ],
   "source": [
    "for i, j, k in zip(axis1, axis2, axis3):\n",
    "    print(a2[i, j, k], end = ', ')"
   ]
  },
  {
   "cell_type": "markdown",
   "metadata": {},
   "source": [
    "## 기타\n",
    "- np.any(boolean 배열)\n",
    "    - 배열에 True가 하나라도 있으면 True 반환\n",
    "    - 배열내에 특정 조건을 만족하는 값이 하나 이상 있는지 확인할 때 사용\n",
    "- np.all(boolean 배열)\n",
    "    - 배열의 모든 원소가 True이면 True 반환\n",
    "    - 배열내의 모든 원소가 특정 조건을 만족하는지 확인할 때 사용"
   ]
  },
  {
   "cell_type": "code",
   "execution_count": 39,
   "metadata": {},
   "outputs": [
    {
     "name": "stdout",
     "output_type": "stream",
     "text": [
      "True\n",
      "False\n"
     ]
    }
   ],
   "source": [
    "print(np.any([True, False, False, False]))\n",
    "print(np.any([False, False, False, False]))"
   ]
  },
  {
   "cell_type": "code",
   "execution_count": 40,
   "metadata": {},
   "outputs": [
    {
     "name": "stdout",
     "output_type": "stream",
     "text": [
      "False\n",
      "True\n"
     ]
    }
   ],
   "source": [
    "print(np.any(a2 == 99))\n",
    "print(np.any(a2 == 83))"
   ]
  },
  {
   "cell_type": "code",
   "execution_count": 41,
   "metadata": {},
   "outputs": [
    {
     "name": "stdout",
     "output_type": "stream",
     "text": [
      "False\n",
      "True\n"
     ]
    }
   ],
   "source": [
    "print(np.all([True, True, False]))\n",
    "print(np.all([True, True, True]))"
   ]
  },
  {
   "cell_type": "code",
   "execution_count": 42,
   "metadata": {},
   "outputs": [
    {
     "name": "stdout",
     "output_type": "stream",
     "text": [
      "True\n",
      "False\n"
     ]
    }
   ],
   "source": [
    "print(np.all(a2>0))\n",
    "print(np.all(a2>10))"
   ]
  },
  {
   "cell_type": "markdown",
   "metadata": {},
   "source": [
    "## 배열의 형태(shape) 변경\n",
    "### reshape()을 이용한 차원 변경\n",
    "- numpy.reshape(a, newshape) 또는 ndarray.reshape(newshape)\n",
    "    - a : 형태를 변경할 배열\n",
    "    - newshaoe : 변경할 형태 설정\n",
    "        - 원소 개수를 유지하는 shape으로만 변환 가능\n",
    "        - 하나의 축의 size를 -1로 줄 수 있다\n",
    "            - 전체 size / 다른 축의 size곱을 -1로 지정한 axis의 size로 지정\n",
    "    - 원본을 바꾸지 않고 reshape한 새로운 배열을 반환"
   ]
  },
  {
   "cell_type": "code",
   "execution_count": 43,
   "metadata": {},
   "outputs": [
    {
     "name": "stdout",
     "output_type": "stream",
     "text": [
      "(20,)\n"
     ]
    },
    {
     "data": {
      "text/plain": [
       "array([ 0,  1,  2,  3,  4,  5,  6,  7,  8,  9, 10, 11, 12, 13, 14, 15, 16,\n",
       "       17, 18, 19])"
      ]
     },
     "execution_count": 43,
     "metadata": {},
     "output_type": "execute_result"
    }
   ],
   "source": [
    "a = np.arange(20)\n",
    "print(a.shape)\n",
    "a"
   ]
  },
  {
   "cell_type": "code",
   "execution_count": 44,
   "metadata": {},
   "outputs": [
    {
     "name": "stdout",
     "output_type": "stream",
     "text": [
      "(2, 10)\n"
     ]
    },
    {
     "data": {
      "text/plain": [
       "array([[ 0,  1,  2,  3,  4,  5,  6,  7,  8,  9],\n",
       "       [10, 11, 12, 13, 14, 15, 16, 17, 18, 19]])"
      ]
     },
     "execution_count": 44,
     "metadata": {},
     "output_type": "execute_result"
    }
   ],
   "source": [
    "r1 = np.reshape(a, (2, 10))\n",
    "print(r1.shape)\n",
    "r1"
   ]
  },
  {
   "cell_type": "code",
   "execution_count": 46,
   "metadata": {},
   "outputs": [
    {
     "name": "stdout",
     "output_type": "stream",
     "text": [
      "(4, 5)\n"
     ]
    },
    {
     "data": {
      "text/plain": [
       "array([[ 0,  1,  2,  3,  4],\n",
       "       [ 5,  6,  7,  8,  9],\n",
       "       [10, 11, 12, 13, 14],\n",
       "       [15, 16, 17, 18, 19]])"
      ]
     },
     "execution_count": 46,
     "metadata": {},
     "output_type": "execute_result"
    }
   ],
   "source": [
    "r2 = a.reshape(4, 5)\n",
    "print(r2.shape)\n",
    "r2"
   ]
  },
  {
   "cell_type": "code",
   "execution_count": 47,
   "metadata": {},
   "outputs": [
    {
     "name": "stdout",
     "output_type": "stream",
     "text": [
      "(2, 2, 5)\n"
     ]
    },
    {
     "data": {
      "text/plain": [
       "array([[[ 0,  1,  2,  3,  4],\n",
       "        [ 5,  6,  7,  8,  9]],\n",
       "\n",
       "       [[10, 11, 12, 13, 14],\n",
       "        [15, 16, 17, 18, 19]]])"
      ]
     },
     "execution_count": 47,
     "metadata": {},
     "output_type": "execute_result"
    }
   ],
   "source": [
    "r3 = a.reshape(2, 2, -1)\n",
    "print(r3.shape)\n",
    "r3"
   ]
  },
  {
   "cell_type": "markdown",
   "metadata": {},
   "source": [
    "### 차원 늘리기(확장)\n",
    "- Dummy axis(축)을 늘린다\n",
    "- reshape()을 이용해 늘릴 수 있다\n",
    "- indexer와 np.newaxis 변수를 이용해 늘린다\n",
    "    - ndarray[..., np.newaxis] 또는 ndarray[np.newaxis, ...]\n",
    "        - 맨앞 또는 맨 마지막에 dummy axis(축)을 늘릴때 사용\n",
    "        - 축을 늘리려는 위치에 np.newaxis를 지정하고 ... 으로 원본 배열의 shape을 유지함"
   ]
  },
  {
   "cell_type": "code",
   "execution_count": 53,
   "metadata": {},
   "outputs": [
    {
     "name": "stdout",
     "output_type": "stream",
     "text": [
      "(20,)\n",
      "(20, 1)\n",
      "(1, 20)\n"
     ]
    }
   ],
   "source": [
    "print(a.shape)\n",
    "r1 = np.reshape(20, 1)\n",
    "r1 = a.reshape(-1, 1)\n",
    "print(r1.shape)\n",
    "r1 = a.reshape(1, -1)\n",
    "print(r1.shape)"
   ]
  },
  {
   "cell_type": "code",
   "execution_count": 55,
   "metadata": {},
   "outputs": [
    {
     "name": "stdout",
     "output_type": "stream",
     "text": [
      "(5, 2, 3)\n",
      "(1, 5, 2, 3)\n",
      "(5, 2, 3, 1)\n"
     ]
    }
   ],
   "source": [
    "# 다차원\n",
    "print(a2.shape)\n",
    "r2 = a2.reshape(1, 5, 2, -1)\n",
    "print(r2.shape)\n",
    "r2 = a2.reshape(5, 2, 3, 1)\n",
    "print(r2.shape)"
   ]
  },
  {
   "cell_type": "code",
   "execution_count": 58,
   "metadata": {},
   "outputs": [
    {
     "name": "stdout",
     "output_type": "stream",
     "text": [
      "(20,)\n",
      "(20, 1)\n",
      "(1, 20)\n"
     ]
    }
   ],
   "source": [
    "print(a.shape)\n",
    "print(a[..., np.newaxis].shape)\n",
    "print(a[np.newaxis, ...].shape)"
   ]
  },
  {
   "cell_type": "code",
   "execution_count": 59,
   "metadata": {},
   "outputs": [
    {
     "name": "stdout",
     "output_type": "stream",
     "text": [
      "(5, 2, 3)\n",
      "(1, 5, 2, 3)\n",
      "(5, 2, 3, 1)\n"
     ]
    }
   ],
   "source": [
    "# 다차원\n",
    "print(a2.shape)\n",
    "print(a2[np.newaxis, ...].shape)\n",
    "print(a2[..., np.newaxis].shape)"
   ]
  },
  {
   "cell_type": "code",
   "execution_count": 60,
   "metadata": {},
   "outputs": [
    {
     "name": "stdout",
     "output_type": "stream",
     "text": [
      "(5, 2, 1, 3)\n",
      "(1, 5, 2, 3)\n",
      "(5, 2, 3, 1)\n"
     ]
    }
   ],
   "source": [
    "r = np.expand_dims(a2, axis = 2) # a2의 2번축에 dummy axis를 추가\n",
    "print(r.shape)\n",
    "r = np.expand_dims(a2, axis = 0) # a2의 0번축에 추가\n",
    "print(r.shape)\n",
    "r = np.expand_dims(a2, axis = -1) # a2의 마지막축에 추가\n",
    "print(r.shape)"
   ]
  },
  {
   "cell_type": "markdown",
   "metadata": {},
   "source": [
    "### 차원 줄이기(축소)\n",
    "#### numpy.squeeze(배열, axis = None), 배열객체, squeeze(axis = None)\n",
    "- 배열에서 지정한 축(axis)을 제거하여 차원(rank)를 줄인다\n",
    "- 제거하려는 축의 size는 1이어야 한다\n",
    "- 축을 지정하지 않으면 size가 1인 모든 축을 제거한다.\n",
    "    - (3, 1, 1, 2) => (3, 2)\n",
    "- squeeze는 한번에 하나씩만 제거 가능"
   ]
  },
  {
   "cell_type": "code",
   "execution_count": 61,
   "metadata": {},
   "outputs": [
    {
     "data": {
      "text/plain": [
       "(1, 2, 1, 2, 3, 1)"
      ]
     },
     "execution_count": 61,
     "metadata": {},
     "output_type": "execute_result"
    }
   ],
   "source": [
    "a = np.arange(12).reshape(1, 2, 1, 2, 3, 1)\n",
    "a.shape"
   ]
  },
  {
   "cell_type": "code",
   "execution_count": 62,
   "metadata": {},
   "outputs": [
    {
     "data": {
      "text/plain": [
       "(2, 2, 3)"
      ]
     },
     "execution_count": 62,
     "metadata": {},
     "output_type": "execute_result"
    }
   ],
   "source": [
    "r1 = a.reshape(2, 2, 3)\n",
    "r1.shape"
   ]
  },
  {
   "cell_type": "code",
   "execution_count": 63,
   "metadata": {},
   "outputs": [
    {
     "data": {
      "text/plain": [
       "(2, 2, 3)"
      ]
     },
     "execution_count": 63,
     "metadata": {},
     "output_type": "execute_result"
    }
   ],
   "source": [
    "r2 = a.squeeze() # reshape한 새로운 배열을 생성해서 반환\n",
    "r2.shape"
   ]
  },
  {
   "cell_type": "code",
   "execution_count": 65,
   "metadata": {},
   "outputs": [
    {
     "data": {
      "text/plain": [
       "(1, 2, 2, 3, 1)"
      ]
     },
     "execution_count": 65,
     "metadata": {},
     "output_type": "execute_result"
    }
   ],
   "source": [
    "r3 = a.squeeze(axis = 2)\n",
    "r3.shape"
   ]
  },
  {
   "cell_type": "markdown",
   "metadata": {},
   "source": [
    "### 배열객체.flatten()\n",
    "- 다차원 배열을 1차원으로 만든다"
   ]
  },
  {
   "cell_type": "code",
   "execution_count": 67,
   "metadata": {},
   "outputs": [
    {
     "name": "stdout",
     "output_type": "stream",
     "text": [
      "(1, 2, 1, 2, 3, 1)\n",
      "[[[[[[ 0]\n",
      "     [ 1]\n",
      "     [ 2]]\n",
      "\n",
      "    [[ 3]\n",
      "     [ 4]\n",
      "     [ 5]]]]\n",
      "\n",
      "\n",
      "\n",
      "  [[[[ 6]\n",
      "     [ 7]\n",
      "     [ 8]]\n",
      "\n",
      "    [[ 9]\n",
      "     [10]\n",
      "     [11]]]]]]\n"
     ]
    },
    {
     "data": {
      "text/plain": [
       "array([ 0,  1,  2,  3,  4,  5,  6,  7,  8,  9, 10, 11])"
      ]
     },
     "execution_count": 67,
     "metadata": {},
     "output_type": "execute_result"
    }
   ],
   "source": [
    "print(a.shape)\n",
    "print(a)\n",
    "a.reshape(-1)"
   ]
  },
  {
   "cell_type": "code",
   "execution_count": 68,
   "metadata": {},
   "outputs": [
    {
     "name": "stdout",
     "output_type": "stream",
     "text": [
      "(12,)\n"
     ]
    },
    {
     "data": {
      "text/plain": [
       "array([ 0,  1,  2,  3,  4,  5,  6,  7,  8,  9, 10, 11])"
      ]
     },
     "execution_count": 68,
     "metadata": {},
     "output_type": "execute_result"
    }
   ],
   "source": [
    "r = a.flatten()\n",
    "print(r.shape)\n",
    "r"
   ]
  },
  {
   "cell_type": "code",
   "execution_count": 69,
   "metadata": {},
   "outputs": [
    {
     "data": {
      "text/plain": [
       "(3, 5)"
      ]
     },
     "execution_count": 69,
     "metadata": {},
     "output_type": "execute_result"
    }
   ],
   "source": [
    "a = np.arange(15).reshape(3, 5)\n",
    "a.shape"
   ]
  },
  {
   "cell_type": "code",
   "execution_count": 70,
   "metadata": {},
   "outputs": [
    {
     "data": {
      "text/plain": [
       "(5, 3)"
      ]
     },
     "execution_count": 70,
     "metadata": {},
     "output_type": "execute_result"
    }
   ],
   "source": [
    "r = a.T # (3, 5) -> (5, 3) 변환\n",
    "r.shape"
   ]
  },
  {
   "cell_type": "code",
   "execution_count": 72,
   "metadata": {},
   "outputs": [
    {
     "data": {
      "text/plain": [
       "(3, 4, 5)"
      ]
     },
     "execution_count": 72,
     "metadata": {},
     "output_type": "execute_result"
    }
   ],
   "source": [
    "a2 = np.arange(60).reshape(3, 4, 5)\n",
    "a2.shape"
   ]
  },
  {
   "cell_type": "code",
   "execution_count": 74,
   "metadata": {},
   "outputs": [
    {
     "name": "stdout",
     "output_type": "stream",
     "text": [
      "(3, 4, 5)\n"
     ]
    },
    {
     "data": {
      "text/plain": [
       "(5, 3, 4)"
      ]
     },
     "execution_count": 74,
     "metadata": {},
     "output_type": "execute_result"
    }
   ],
   "source": [
    "r2 = np.transpose(a2, (2, 0, 1)) # 대상 배열, 축을 어떻게 이동\n",
    "print(a2.shape)\n",
    "r2.shape"
   ]
  },
  {
   "cell_type": "code",
   "execution_count": null,
   "metadata": {},
   "outputs": [],
   "source": []
  }
 ],
 "metadata": {
  "kernelspec": {
   "display_name": "Python 3.9.13 ('base')",
   "language": "python",
   "name": "python3"
  },
  "language_info": {
   "codemirror_mode": {
    "name": "ipython",
    "version": 3
   },
   "file_extension": ".py",
   "mimetype": "text/x-python",
   "name": "python",
   "nbconvert_exporter": "python",
   "pygments_lexer": "ipython3",
   "version": "3.9.13"
  },
  "orig_nbformat": 4,
  "vscode": {
   "interpreter": {
    "hash": "57bc2b6ce032b5f0e93daa91901b7ea38a856826ef43aa9e95b6d3999f5310df"
   }
  }
 },
 "nbformat": 4,
 "nbformat_minor": 2
}
